{
  "nbformat": 4,
  "nbformat_minor": 0,
  "metadata": {
    "colab": {
      "name": "Untitled1.ipynb",
      "provenance": [],
      "authorship_tag": "ABX9TyPuSPCmEzyK4r7iNedvPO7C",
      "include_colab_link": true
    },
    "kernelspec": {
      "name": "python3",
      "display_name": "Python 3"
    },
    "language_info": {
      "name": "python"
    }
  },
  "cells": [
    {
      "cell_type": "markdown",
      "metadata": {
        "id": "view-in-github",
        "colab_type": "text"
      },
      "source": [
        "<a href=\"https://colab.research.google.com/github/inafuku-noa/hit-blow/blob/main/Untitled1.ipynb\" target=\"_parent\"><img src=\"https://colab.research.google.com/assets/colab-badge.svg\" alt=\"Open In Colab\"/></a>"
      ]
    },
    {
      "cell_type": "code",
      "execution_count": null,
      "metadata": {
        "colab": {
          "base_uri": "https://localhost:8080/"
        },
        "id": "ytmy02qAXRHr",
        "outputId": "3fe00020-10eb-4ac0-ee14-9a02442d6f0d"
      },
      "outputs": [
        {
          "output_type": "stream",
          "name": "stdout",
          "text": [
            "[2, 0, 2, 6]\n",
            "2026\n",
            "正解\n"
          ]
        }
      ],
      "source": [
        "import random\n",
        "\n",
        "answer = [random.randint(0,9),\n",
        "          random.randint(0,9),\n",
        "          random.randint(0,9),\n",
        "          random.randint(0,9)]\n",
        "\n",
        "while True:\n",
        "  number = input()\n",
        "  number = [int(i) for i in list(number)]\n",
        "  \n",
        "  if len(number) != 4:\n",
        "    print('エラー')\n",
        "\n",
        "  if answer == number:\n",
        "        print('正解')\n",
        "        break  \n",
        "    \n",
        "  else:\n",
        "      hit = 0\n",
        "      for i in range(4):\n",
        "        if answer[i] == number[i]:\n",
        "         hit = hit+1\n",
        "         \n",
        "      blow = 0\n",
        "      for i in range(4):\n",
        "       for j in range(4):\n",
        "         if (answer[i]==number[j]) and (answer[i]!=number[i]) and (answer[j]!=number[j]):\n",
        "             blow=blow+1\n",
        "             break\n",
        "             \n",
        "      print(\"ヒット:\" + str(hit) + 'ブロー:' + str(blow))\n"
      ]
    },
    {
      "cell_type": "code",
      "source": [
        ""
      ],
      "metadata": {
        "id": "1wMcPXhPuq3h"
      },
      "execution_count": null,
      "outputs": []
    },
    {
      "cell_type": "code",
      "source": [
        ""
      ],
      "metadata": {
        "id": "85x3OkSQstzW"
      },
      "execution_count": null,
      "outputs": []
    }
  ]
}